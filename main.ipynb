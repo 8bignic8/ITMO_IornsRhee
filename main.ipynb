{
 "cells": [
  {
   "cell_type": "code",
   "execution_count": null,
   "id": "intimate-commissioner",
   "metadata": {},
   "outputs": [],
   "source": [
    "import numpy as np\n",
    "from numba import jit\n",
    "import cv2\n",
    "import os\n",
    "import time"
   ]
  },
  {
   "cell_type": "code",
   "execution_count": null,
   "id": "sound-novel",
   "metadata": {},
   "outputs": [],
   "source": [
    "def mathiTMO(pic):\n",
    "    pic = pic/((2**8)-1)\n",
    "    x = len(pic[0,:,:])-1\n",
    "    y = len(pic[:,0,:])-1\n",
    "    c = len(pic[0,0,:])-1\n",
    "    new_pic=pic#.astype(np.float64)\n",
    "    while(x>=0): #y\n",
    "        y = len(pic[:,0,:])-1\n",
    "        while(y>=0): #x\n",
    "            c = len(pic[0,0,:])-1\n",
    "            while(c>=0): #x\n",
    "                pixelInfloat = ((10*((0.11*pic[y,x,0]+0.59*pic[y,x,1]+0.3*pic[y,x,2])**10)+1.8)*pic[y,x,c])\n",
    "                new_pic[y,x,c] = pixelInfloat\n",
    "                c = c -1\n",
    "            y = y -1\n",
    "        x = x -1\n",
    "    return new_pic"
   ]
  },
  {
   "cell_type": "code",
   "execution_count": null,
   "id": "exterior-ballot",
   "metadata": {},
   "outputs": [],
   "source": [
    "#Read Picture and return it\n",
    "\n",
    "def readThePicture(picturepath):\n",
    "    #  open ImageObject\n",
    "    try:\n",
    "        print('Reading <==== '+picturepath)\n",
    "        img = cv2.imread(picturepath, cv2.IMREAD_UNCHANGED)# | cv2.IMREAD_ANYCOLOR | cv2.IMREAD_ANYDEPTH)\n",
    "    except:\n",
    "        print('There was an error while reading the picture')\n",
    "        img = 0\n",
    "    return img"
   ]
  },
  {
   "cell_type": "code",
   "execution_count": null,
   "id": "protected-jacksonville",
   "metadata": {},
   "outputs": [],
   "source": [
    "def savePic(picture,fileName,extention,outPath): #saves the given array as a pictures to the given output path\n",
    "    outPath = outPath+fileName+'.'+extention\n",
    "    try:\n",
    "\n",
    "        #print(picture.shape)\n",
    "        print('Writing picture to ====> '+outPath)\n",
    "        cv2.imwrite(outPath,picture)\n",
    "        \n",
    "    except:\n",
    "        print('Failed while saving picture: '+fileName+' to '+ outPath+' sorry :(')\n",
    "        print('--------------------')"
   ]
  },
  {
   "cell_type": "code",
   "execution_count": null,
   "id": "lovely-hawaii",
   "metadata": {},
   "outputs": [],
   "source": [
    "###https://link.springer.com/content/pdf/10.1007%2F978-3-319-30285-0_12.pdf\n",
    "\n",
    "sdrPic = './SDR/'\n",
    "sdrPic = input('Pleace put in your inputpath for your SDR Pictures:def = '+sdrPic) or sdrPic\n",
    "if not os.path.exists(sdrPic):\n",
    "        os.mkdir(sdrPic)\n",
    "allDir = os.listdir(sdrPic)"
   ]
  },
  {
   "cell_type": "code",
   "execution_count": null,
   "id": "legislative-angle",
   "metadata": {
    "scrolled": true
   },
   "outputs": [],
   "source": [
    "start_time = time.time() #start the timeing of the Prgramm\n",
    "allDir = os.listdir(sdrPic)\n",
    "if(len(allDir)>= 0):\n",
    "    sumDir = len(allDir)-1\n",
    "    while(sumDir>=0):\n",
    "        if(allDir[sumDir]!='.DS_Store'):\n",
    "            akDir = sdrPic+allDir[sumDir]+'/SDR/'\n",
    "            print(akDir)\n",
    "            picnum= len(os.listdir(akDir))-1\n",
    "            while(picnum>=0):   \n",
    "                name = os.listdir(akDir)[picnum]\n",
    "                if(name!='.DS_Store'):\n",
    "                    pic = readThePicture(akDir+name)\n",
    "                    jutfunk = jit()(mathiTMO)\n",
    "                    c = jutfunk(pic)\n",
    "                    c = np.clip(c*((2**16)-1),0,((2**16)-1)).astype(np.uint16)\n",
    "                    outP = sdrPic+allDir[sumDir]+'/HDRGen/'\n",
    "                    if not os.path.exists(outP):\n",
    "                        os.mkdir(outP)\n",
    "\n",
    "                    savePic(c,name.split('.')[0],'png',outP)\n",
    "                picnum = picnum-1\n",
    "        sumDir = sumDir-1\n",
    "print('Finished and it took: '+str((time.time() - start_time)/60)+'minutes')        "
   ]
  },
  {
   "cell_type": "code",
   "execution_count": null,
   "id": "cubic-elder",
   "metadata": {
    "scrolled": true
   },
   "outputs": [],
   "source": [
    "exit()"
   ]
  },
  {
   "cell_type": "code",
   "execution_count": null,
   "id": "dietary-heaven",
   "metadata": {},
   "outputs": [],
   "source": []
  },
  {
   "cell_type": "code",
   "execution_count": null,
   "id": "radio-authentication",
   "metadata": {},
   "outputs": [],
   "source": []
  },
  {
   "cell_type": "code",
   "execution_count": null,
   "id": "alpha-assembly",
   "metadata": {},
   "outputs": [],
   "source": []
  }
 ],
 "metadata": {
  "kernelspec": {
   "display_name": "Python 3",
   "language": "python",
   "name": "python3"
  },
  "language_info": {
   "codemirror_mode": {
    "name": "ipython",
    "version": 3
   },
   "file_extension": ".py",
   "mimetype": "text/x-python",
   "name": "python",
   "nbconvert_exporter": "python",
   "pygments_lexer": "ipython3",
   "version": "3.9.1"
  }
 },
 "nbformat": 4,
 "nbformat_minor": 5
}
